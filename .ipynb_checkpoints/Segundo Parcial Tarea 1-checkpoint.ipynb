{
 "cells": [
  {
   "cell_type": "code",
   "execution_count": 2,
   "metadata": {
    "collapsed": true
   },
   "outputs": [],
   "source": [
    "%matplotlib inline\n",
    "\n",
    "import numpy as np\n",
    "import matplotlib.pyplot as plt\n",
    "import random"
   ]
  },
  {
   "cell_type": "code",
   "execution_count": 3,
   "metadata": {},
   "outputs": [
    {
     "data": {
      "text/plain": [
       "[<matplotlib.lines.Line2D at 0x1b1a8376e48>]"
      ]
     },
     "execution_count": 3,
     "metadata": {},
     "output_type": "execute_result"
    },
    {
     "data": {
      "image/png": "[encoded data removed]",
      "text/plain": [
       "<matplotlib.figure.Figure at 0x1b1a8fcf630>"
      ]
     },
     "metadata": {},
     "output_type": "display_data"
    }
   ],
   "source": [
    "def walker():\n",
    "    global x,y\n",
    "    r = random.uniform(0,1)\n",
    "    if r< 0.01: #un 1% de probabilidad de tomar un paso grande\n",
    "        x += np.random.normal(0,200)\n",
    "        y += random.gauss(0,200)\n",
    "    else:\n",
    "        x += np.random.normal(0,1)\n",
    "        y += random.gauss(0,1)\n",
    "    return [x,y]\n",
    "\n",
    "\n",
    "x = 0 #Inicia el caminador\n",
    "y = 0\n",
    "\n",
    "Pos = np.zeros((2,1000))\n",
    "\n",
    "for i in np.arange(0,len(Pos[0]),1):\n",
    "    Pos[:,i] = walker()\n",
    "    \n",
    "plt.plot(Pos[0,:],Pos[1,:],'bo-')\n",
    "plt.plot(Pos[0,-1],Pos[1,-1],'ro-')"
   ]
  },
  {
   "cell_type": "code",
   "execution_count": null,
   "metadata": {
    "collapsed": true
   },
   "outputs": [],
   "source": []
  }
 ],
 "metadata": {
  "kernelspec": {
   "display_name": "Python 3",
   "language": "python",
   "name": "python3"
  },
  "language_info": {
   "codemirror_mode": {
    "name": "ipython",
    "version": 3
   },
   "file_extension": ".py",
   "mimetype": "text/x-python",
   "name": "python",
   "nbconvert_exporter": "python",
   "pygments_lexer": "ipython3",
   "version": "3.6.1"
  }
 },
 "nbformat": 4,
 "nbformat_minor": 2
}
