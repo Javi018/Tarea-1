{
 "cells": [
  {
   "cell_type": "code",
   "execution_count": 2,
   "metadata": {
    "collapsed": true
   },
   "outputs": [],
   "source": [
    "from math import inf, sinh, cosh\n",
    "from numpy import arange, vectorize\n",
    "from matplotlib import pyplot as plt\n",
    "\n",
    "\n",
    "def find_a(L, h, a_0, table=False):\n",
    "    \"\"\"Use Newton's method to numerically approximate the value of a.\"\"\"\n",
    "    a = a_0\n",
    "    diff = inf\n",
    "    count = 0\n",
    "\n",
    "    # Repite hasta que el error sea de 0.1.\n",
    "    while diff > 0.1 and count < 100:\n",
    "        arg = L / (2 * a)\n",
    "        expr = a + h - a * cosh(arg)\n",
    "        deriv = 1 - cosh(arg) + arg * sinh(arg)\n",
    "        a_plus = a - expr / deriv\n",
    "        diff = abs(a_plus - a)\n",
    "\n",
    "        if table:\n",
    "            print('a: {:7.3f}  a++: {:7.3f}  diff: {:7.3f}'.format(\n",
    "                    a, a_plus, diff))\n",
    "\n",
    "        a = a_plus\n",
    "        count += 1\n",
    "\n",
    "    # Si la operacion nunca alcanzo la convergencia, devuelve negativo.\n",
    "    return a if count < 100 else -1\n",
    "\n",
    "\n",
    "# L      Longitud entre los postes.\n",
    "# A      Altura de los postes.\n",
    "# h      Pandeo del cable.\n",
    "# table  'True' para imprimir la aproximacion numerica de a.\n",
    "def plot_cat(L, A, h, table=False):\n",
    "    \"\"\"Plot the catenary function f(x) = a * cosh(x / a) + c\"\"\"\n",
    "\n",
    "    # Definicion de la ecuacion caracteristica de la catenaria.\n",
    "    cat = lambda x, a, c: a * cosh(x / a) + c\n",
    "    vcat = vectorize(cat)\n",
    "\n",
    "    t = arange(-L / 2, L / 2, 0.2)\n",
    "    a = find_a(L, h, L / 2, table)  # Encuentra a.\n",
    "\n",
    "    if a < 0:\n",
    "        print('error: could not approximate the value of a')\n",
    "        raise SystemExit(1)\n",
    "\n",
    "    offset = A - h - cat(0, a, 0)  # Ajuste para que las medidas coincidan.\n",
    "\n",
    "    # Ejes y rango de la grafica.\n",
    "    plt.xlabel('Distance (m)')\n",
    "    plt.ylabel('Height (m)')\n",
    "    plt.ylim(0, int(1.1 * A))  # Altura + 10%.\n",
    "\n",
    "    # Imprime grafica.\n",
    "    plt.plot(t, vcat(t, a, offset), 'r')\n",
    "    plt.grid()\n",
    "    plt.show()\n"
   ]
  },
  {
   "cell_type": "code",
   "execution_count": 3,
   "metadata": {
    "scrolled": true
   },
   "outputs": [
    {
     "data": {
      "image/png": "[encoded data removed]",
      "text/plain": [
       "<matplotlib.figure.Figure at 0x2195d9a0b70>"
      ]
     },
     "metadata": {},
     "output_type": "display_data"
    }
   ],
   "source": [
    "plot_cat(250,30,10)"
   ]
  },
  {
   "cell_type": "code",
   "execution_count": null,
   "metadata": {
    "collapsed": true
   },
   "outputs": [],
   "source": []
  }
 ],
 "metadata": {
  "kernelspec": {
   "display_name": "Python 3",
   "language": "python",
   "name": "python3"
  },
  "language_info": {
   "codemirror_mode": {
    "name": "ipython",
    "version": 3
   },
   "file_extension": ".py",
   "mimetype": "text/x-python",
   "name": "python",
   "nbconvert_exporter": "python",
   "pygments_lexer": "ipython3",
   "version": "3.6.1"
  }
 },
 "nbformat": 4,
 "nbformat_minor": 2
}
